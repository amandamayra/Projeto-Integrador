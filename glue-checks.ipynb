{
	"metadata": {
		"kernelspec": {
			"name": "glue_pyspark",
			"display_name": "Glue PySpark",
			"language": "python"
		},
		"language_info": {
			"name": "Python_Glue_Session",
			"mimetype": "text/x-python",
			"codemirror_mode": {
				"name": "python",
				"version": 3
			},
			"pygments_lexer": "python3",
			"file_extension": ".py"
		}
	},
	"nbformat_minor": 4,
	"nbformat": 4,
	"cells": [
		{
			"cell_type": "markdown",
			"source": "# AWS Glue Studio Notebook\n##### You are now running a AWS Glue Studio notebook; To start using your notebook you need to start an AWS Glue Interactive Session.\n",
			"metadata": {
				"editable": true,
				"trusted": true
			}
		},
		{
			"cell_type": "markdown",
			"source": "#### Optional: Run this cell to see available notebook commands (\"magics\").\n",
			"metadata": {
				"editable": true,
				"trusted": true
			}
		},
		{
			"cell_type": "code",
			"source": "%help",
			"metadata": {
				"trusted": true,
				"editable": true
			},
			"execution_count": null,
			"outputs": []
		},
		{
			"cell_type": "markdown",
			"source": "####  Run this cell to set up and start your interactive session.\n",
			"metadata": {
				"editable": true,
				"trusted": true
			}
		},
		{
			"cell_type": "code",
			"source": "%idle_timeout 2880\n%glue_version 5.0\n%worker_type G.1X\n%number_of_workers 5\n\nimport sys\nfrom awsglue.transforms import *\nfrom awsglue.utils import getResolvedOptions\nfrom pyspark.context import SparkContext\nfrom awsglue.context import GlueContext\nfrom awsglue.job import Job\nfrom pyspark.sql.functions import col, trim, avg, sum, when, count, countDistinct\n  \nsc = SparkContext.getOrCreate()\nglueContext = GlueContext(sc)\nspark = glueContext.spark_session\njob = Job(glueContext)",
			"metadata": {
				"trusted": true,
				"editable": true
			},
			"execution_count": 1,
			"outputs": [
				{
					"name": "stdout",
					"text": "Welcome to the Glue Interactive Sessions Kernel\nFor more information on available magic commands, please type %help in any new cell.\n\nPlease view our Getting Started page to access the most up-to-date information on the Interactive Sessions kernel: https://docs.aws.amazon.com/glue/latest/dg/interactive-sessions.html\nInstalled kernel version: 1.0.8 \nCurrent idle_timeout is None minutes.\nidle_timeout has been set to 2880 minutes.\nSetting Glue version to: 5.0\nPrevious worker type: None\nSetting new worker type to: G.1X\nPrevious number of workers: None\nSetting new number of workers to: 5\nTrying to create a Glue session for the kernel.\nSession Type: glueetl\nWorker Type: G.1X\nNumber of Workers: 5\nIdle Timeout: 2880\nSession ID: 0a13d671-8f7b-48a9-8df9-eadfd32e5f56\nApplying the following default arguments:\n--glue_kernel_version 1.0.8\n--enable-glue-datacatalog true\nWaiting for session 0a13d671-8f7b-48a9-8df9-eadfd32e5f56 to get into ready status...\nSession 0a13d671-8f7b-48a9-8df9-eadfd32e5f56 has been created.\n\n",
					"output_type": "stream"
				}
			]
		},
		{
			"cell_type": "code",
			"source": "# Caminhos\nrate_path = \"s3://health-insurance-trusted/Rate.csv/\"\nbenefit_path = \"s3://health-insurance-trusted/BenefitsCostSharing.csv/\"\nplan_attr_path = \"s3://health-insurance-trusted/PlanAttributes.csv/\"\nnetwork_path = \"s3://health-insurance-trusted/Network.csv/\"\ndelivery_output = \"s3://health-insurance-delivery/\"",
			"metadata": {
				"trusted": true,
				"tags": []
			},
			"execution_count": 2,
			"outputs": [
				{
					"name": "stdout",
					"text": "\n",
					"output_type": "stream"
				}
			]
		},
		{
			"cell_type": "code",
			"source": "# ============================================\n# Leitura das tabelas necessárias\n# ============================================\n\n# rate\ndf_rate_raw = spark.read.option(\"header\", \"true\").csv(rate_path)\ndf_rate_filtered = df_rate_raw.select(\"BusinessYear\", \"StateCode\", \"Age\", \"IndividualRate\", \"PlanId\") \\\n                              .dropna(subset=[\"IndividualRate\", \"Age\", \"PlanId\"]) \\\n                              .withColumn(\"IndividualRate\", col(\"IndividualRate\").cast(\"double\")) \\\n                              .withColumn(\"Age\", col(\"Age\").cast(\"int\"))\n\n# benefit\ndf_benefit_raw = spark.read.option(\"header\", \"true\").csv(benefit_path)\ndf_benefit_filtered = df_benefit_raw.select(\"PlanId\", \"BenefitName\", \"IsCovered\", \"StateCode\") \\\n                                    .dropna(subset=[\"PlanId\"])\n\n# plan attribute\ndf_plan_attr_raw = spark.read.option(\"header\", \"true\").csv(plan_attr_path).dropna(subset=[\"PlanId\"])\ndf_plan_attr_filtered = df_plan_attr_raw.filter(\n    col(\"PlanId\").isNotNull() & col(\"StandardComponentId\").isNotNull())\n\n# network\ndf_network = spark.read.option(\"header\", True).csv(network_path)\ndf_network_filtered = df_network.select(\"IssuerId\", \"StateCode\", \"NetworkName\") \\\n                                .filter(col(\"NetworkName\").isNotNull()) \\\n                                .dropDuplicates()",
			"metadata": {
				"trusted": true,
				"tags": []
			},
			"execution_count": 3,
			"outputs": [
				{
					"name": "stdout",
					"text": "\n",
					"output_type": "stream"
				}
			]
		},
		{
			"cell_type": "code",
			"source": "# mapeamento PlanId e StandardComponentId\ndf_plan_attr_idmap = df_plan_attr_filtered.select(\"PlanId\", \"StandardComponentId\").distinct()\ndf_plan_attr_idmap.show(5)",
			"metadata": {
				"trusted": true,
				"tags": []
			},
			"execution_count": 4,
			"outputs": [
				{
					"name": "stdout",
					"text": "+-----------------+-------------------+\n|           PlanId|StandardComponentId|\n+-----------------+-------------------+\n|50816IN0130036-00|     50816IN0130036|\n|50816IN0130052-01|     50816IN0130052|\n|56340IN0010001-00|     56340IN0010001|\n|85320IN0010005-02|     85320IN0010005|\n|69051IN0110001-00|     69051IN0110001|\n+-----------------+-------------------+\nonly showing top 5 rows\n",
					"output_type": "stream"
				}
			]
		},
		{
			"cell_type": "code",
			"source": "# ============================================\n# 1. Média de preço por estado e idade\n# ============================================\n\"\"\"\nObjetivo: Utilizar o Rate.csv para calcular a média dos valores por estado e idade,\nidentificando quais regiões apresentam os planos mais caros ou mais acessíveis para\ndiferentes faixas etárias\n\"\"\"\n\ndf_rate_summary = df_rate_filtered.groupBy(\"StateCode\", \"Age\") \\\n                                  .agg(avg(\"IndividualRate\").alias(\"AvgRate\"))\ndf_rate_summary.show(5)",
			"metadata": {
				"trusted": true,
				"tags": []
			},
			"execution_count": 5,
			"outputs": [
				{
					"name": "stdout",
					"text": "+---------+---+------------------+\n|StateCode|Age|           AvgRate|\n+---------+---+------------------+\n|       MT| 36| 5175.295229244114|\n|       MT| 53|  5314.09300495663|\n|       SC| 26|5695.6274378043545|\n|       SC| 27| 5700.366357680406|\n|       TN| 33|  9773.87356910328|\n+---------+---+------------------+\nonly showing top 5 rows\n",
					"output_type": "stream"
				}
			]
		},
		{
			"cell_type": "code",
			"source": "# ============================================\n# 2. Quantidade de benefícios por plano\n# ============================================\n\"\"\"\nObjetivo: Cruzar os dados de BenefitsCostSharing.csv com Rate.csv para verificar se\nplanos com maior cobertura de benefícios tendem a custar mais, gerando gráficos de\ndispersão e agrupamentos por número de benefícios\n\"\"\"\n\n#df_covered_benefits = df_benefit_filtered.filter(col(\"IsCovered\") == \"Yes\")\ndf_covered_benefits = df_benefit_filtered.filter(col(\"IsCovered\") == \"Covered\")\n\ndf_benefit_count = df_covered_benefits.groupBy(\"PlanId\") \\\n                                      .agg(count(\"BenefitName\").alias(\"BenefitCount\"))\n\n# adicionando a coluna de mapeamento\ndf_benefit_std = df_benefit_count.join(df_plan_attr_idmap, on=\"PlanId\", how=\"left\")\n\n\ndf_rate_avg = df_rate_filtered.groupBy(\"PlanId\") \\\n                              .agg(avg(\"IndividualRate\").alias(\"AvgRate\"))\n\ndf_benefit_vs_price = df_benefit_std.join(\n    df_rate_avg.withColumnRenamed(\"PlanId\", \"StandardComponentId\"),\n    on=\"StandardComponentId\",\n    how=\"inner\"\n)\n\n#df_benefit_vs_price = df_benefit_count.join(df_rate_avg, on=\"PlanId\", how=\"inner\")\ndf_benefit_vs_price.show(5)",
			"metadata": {
				"trusted": true,
				"tags": []
			},
			"execution_count": 6,
			"outputs": [
				{
					"name": "stdout",
					"text": "+-------------------+-----------------+------------+------------------+\n|StandardComponentId|           PlanId|BenefitCount|           AvgRate|\n+-------------------+-----------------+------------+------------------+\n|     89281SC0020005|89281SC0020005-01|          21| 33.99239130434756|\n|     89281SC0020005|89281SC0020005-00|          21| 33.99239130434756|\n|     89281SC0010007|89281SC0010007-00|          14| 35.39487948960249|\n|     89281SC0010007|89281SC0010007-01|          14| 35.39487948960249|\n|     89281SC0010009|89281SC0010009-01|          14|31.515439508505708|\n+-------------------+-----------------+------------+------------------+\nonly showing top 5 rows\n",
					"output_type": "stream"
				}
			]
		},
		{
			"cell_type": "code",
			"source": "# ============================================\n# 3. Frequência de benefícios por estado\n# ============================================\n\"\"\"\nObjetivo: Agrupar os dados por StateCode e BenefitName, verificando a frequência de\nbenefícios como cuidados preventivos, odontológicos e maternidade por região\n\"\"\"\n\ndf_benefit_freq = df_covered_benefits.groupBy(\"StateCode\", \"BenefitName\") \\\n                                     .agg(count(\"*\").alias(\"Frequency\"))\ndf_benefit_freq.show(10)",
			"metadata": {
				"trusted": true,
				"tags": []
			},
			"execution_count": 8,
			"outputs": [
				{
					"name": "stdout",
					"text": "+---------+--------------------+---------+\n|StateCode|         BenefitName|Frequency|\n+---------+--------------------+---------+\n|       OH|          Transplant|     4483|\n|       OH|                Wigs|      305|\n|       OH|        Chemotherapy|     4483|\n|       OH|Laboratory Outpat...|     4483|\n|       OH|Off Label Prescri...|     4483|\n|       OH|Preferred Brand D...|     4483|\n|       OH|Preventive Care/S...|     4483|\n|       OH|Dental Check-Up f...|     1819|\n|       AK|Basic Dental Care...|      664|\n|       AK|            Sealants|        4|\n+---------+--------------------+---------+\nonly showing top 10 rows\n",
					"output_type": "stream"
				}
			]
		},
		{
			"cell_type": "code",
			"source": "##### não executar #####\n# ============================================\n# 4. Planos com maior cobertura e custo médio\n# ============================================\n\"\"\"\nObjetivo: Identificar os planos com maior número de benefícios distintos e calcular a\nmédia dos valores cobrados para esses planos, destacando aqueles com melhor custo\nbenefício\n\"\"\"\n#df_top_coverage = df_benefit_count.join(df_rate_avg, on=\"PlanId\", how=\"inner\") \\\n#                                  .orderBy(col(\"BenefitCount\").desc())\n\n#df_benefit_std\n\n# criação top_coverage raw\ndf_top_coverage_raw = df_benefit_std.join(df_rate_avg.withColumnRenamed(\"PlanId\", \"StandardComponentId\"),\n                                        on=\"StandardComponentId\", how=\"inner\") \\\n                                        .orderBy(col(\"BenefitCount\").desc())\n\ndf_top_coverage_raw2 = df_top_coverage_raw.withColumn(\n    \"CoverageCategory\",\n    when(col(\"BenefitCount\") >= 100, \"Alta\")\n    .when(col(\"BenefitCount\") >= 50, \"Média\")\n    .otherwise(\"Baixa\")\n)\n\n# criação df_newtwork\ndf_plan_attr_idmap = df_plan_attr_filtered.select(\"StandardComponentId\", \"PlanId\", \"IssuerId\", \"StateCode\") \\\n                                 .filter(col(\"PlanId\").isNotNull()) \\\n                                 .dropDuplicates()\ndf_plan_networks = df_plan_attr_idmap.join(\n    df_network_filtered,\n    on=[\"IssuerId\", \"StateCode\"],\n    how=\"left\"\n)\n\ndf_network_count = df_plan_networks.groupBy(\"PlanId\") \\\n                                   .agg(countDistinct(\"NetworkName\").alias(\"NetworkCount\"))\n\ndf_top_coverage = df_top_coverage_raw2.join(df_network_count, on=\"PlanId\", how=\"left\")\n\n\"\"\"\ndf_network_type = df_network_filtered.select(\"PlanId\", \"NetworkName\", \"NetworkTier\")\n\ndf_top_coverage = df_top_coverage.join(\n    df_network_type,\n    on=\"PlanId\",\n    how=\"left\"\n)\n\"\"\"\n\ndf_top_coverage.show(5)",
			"metadata": {
				"trusted": true,
				"tags": [],
				"jupyter": {
					"outputs_hidden": true,
					"source_hidden": true
				},
				"collapsed": true
			},
			"execution_count": 36,
			"outputs": [
				{
					"name": "stdout",
					"text": "+-----------------+-------------------+------------+------------------+----------------+------------+\n|           PlanId|StandardComponentId|BenefitCount|           AvgRate|CoverageCategory|NetworkCount|\n+-----------------+-------------------+------------+------------------+----------------+------------+\n|18558KS0360019-01|     18558KS0360019|         174|403.94305383022794|            Alta|           5|\n|18558KS0360019-00|     18558KS0360019|         116|403.94305383022794|            Alta|           5|\n|18558KS0360019-02|     18558KS0360019|         174|403.94305383022794|            Alta|           5|\n|18558KS0360019-03|     18558KS0360019|         174|403.94305383022794|            Alta|           5|\n|18558KS0370001-00|     18558KS0370001|         119| 390.0586128364391|            Alta|           5|\n+-----------------+-------------------+------------+------------------+----------------+------------+\nonly showing top 5 rows\n",
					"output_type": "stream"
				}
			]
		},
		{
			"cell_type": "code",
			"source": "# ============================================\n# 4. Planos com maior cobertura e custo médio\n# ============================================\n\"\"\"\nObjetivo: Identificar os planos com maior número de benefícios distintos e calcular a\ncategoria de cobertura\n\"\"\"\n# criação top_coverage raw\ndf_top_coverage_raw = df_benefit_std.join(df_rate_avg.withColumnRenamed(\"PlanId\", \"StandardComponentId\"),\n                                        on=\"StandardComponentId\", how=\"inner\") \\\n                                        .orderBy(col(\"BenefitCount\").desc())\n\ndf_top_coverage_raw2 = df_top_coverage_raw.withColumn(\n    \"CoverageCategory\",\n    when(col(\"BenefitCount\") >= 100, \"Alta\")\n    .when(col(\"BenefitCount\") >= 50, \"Média\")\n    .otherwise(\"Baixa\")\n)\n\ndf_top_coverage = df_top_coverage_raw2.drop(\"AvgRate\")\ndf_top_coverage.show(5)",
			"metadata": {
				"trusted": true,
				"tags": []
			},
			"execution_count": 9,
			"outputs": [
				{
					"name": "stdout",
					"text": "+-------------------+-----------------+------------+----------------+\n|StandardComponentId|           PlanId|BenefitCount|CoverageCategory|\n+-------------------+-----------------+------------+----------------+\n|     31274WV0310001|31274WV0310001-03|         243|            Alta|\n|     31274WV0310002|31274WV0310002-06|         243|            Alta|\n|     31274WV0310001|31274WV0310001-02|         243|            Alta|\n|     31274WV0310001|31274WV0310001-01|         243|            Alta|\n|     31274WV0310002|31274WV0310002-03|         243|            Alta|\n+-------------------+-----------------+------------+----------------+\nonly showing top 5 rows\n",
					"output_type": "stream"
				}
			]
		},
		{
			"cell_type": "code",
			"source": "# ============================================\n# 5. Dedutíveis e coparticipações médias por plano e estado\n# ============================================\n\"\"\"\nObjetivo: análises de custo além do valor mensal\n\"\"\"\n\"\"\"\ndf_ded_moop = df_plan_attr_raw.select(\"PlanId\", \"StateCode\", \n                                      col(\"DEHBDedCombInnOonIndividual\").cast(\"double\").alias(\"Deductible\"),\n                                      col(\"DEHBOutOfNetIndividualMOOP\").cast(\"double\").alias(\"MOOP\")) \\\n                              .dropna()\n\"\"\"\nfrom pyspark.sql.functions import col, when, regexp_replace\n\ndf_ded_summary = df_plan_attr_raw.select(\n    \"PlanId\", \"StateCode\",\n    # Substituir o símbolo de dólar por vazio\n    regexp_replace(col(\"DEHBDedCombInnOonIndividual\"), \"[\\\\$,]\", \"\").alias(\"Deductible\")\n).dropna(subset=[\"Deductible\"])\n\ndf_ded_moop = df_ded_summary.groupBy(\"StateCode\").agg(\n    # Calcular a média do valor de Deductible, ignorando 'Not Applicable'\n    avg(when(col(\"Deductible\") != \"Not Applicable\", col(\"Deductible\").cast(\"double\")).otherwise(None)).alias(\"Avg_Deductible\")\n)\n\ndf_ded_moop.show(5)",
			"metadata": {
				"trusted": true,
				"tags": []
			},
			"execution_count": 10,
			"outputs": [
				{
					"name": "stdout",
					"text": "+---------+------------------+\n|StateCode|    Avg_Deductible|\n+---------+------------------+\n|       IL| 21.12676056338028|\n|       OK|130.63063063063063|\n|       WV| 6.648936170212766|\n|       WI|52.839506172839506|\n|       MT|               0.0|\n+---------+------------------+\nonly showing top 5 rows\n",
					"output_type": "stream"
				}
			]
		},
		{
			"cell_type": "code",
			"source": "# ============================================\n# 6. Distribuição dos tipos de plano por estado (PlanType)\n# ============================================\n\"\"\"\nObjetivo: Entender quais tipos de plano (HMO, PPO, POS, etc.) são mais comuns em cada estado\n\"\"\"\n\ndf_plan_type_dist = df_plan_attr_raw.select(\"StateCode\", \"PlanType\") \\\n                                    .groupBy(\"StateCode\", \"PlanType\") \\\n                                    .count()\n\ndf_plan_type_dist.show(5)",
			"metadata": {
				"trusted": true,
				"tags": []
			},
			"execution_count": 11,
			"outputs": [
				{
					"name": "stdout",
					"text": "+---------+---------+-----+\n|StateCode| PlanType|count|\n+---------+---------+-----+\n|       NC|Indemnity|   17|\n|       GA|      HMO| 1541|\n|       MO|      EPO|  224|\n|       ND|      PPO|  661|\n|       NC|      PPO|  630|\n+---------+---------+-----+\nonly showing top 5 rows\n",
					"output_type": "stream"
				}
			]
		},
		{
			"cell_type": "code",
			"source": "# ============================================\n# 7. Distribuição por Metal Level (Bronze, Silver, Gold, Platinum)\n# ============================================\n\"\"\"\nObjetivo: Avaliar se certos estados oferecem planos mais “caros” ou “baratos”, de acordo com o nível de cobertura\n\"\"\"\ndf_metal_dist = df_plan_attr_raw.select(\"StateCode\", \"MetalLevel\") \\\n                                .groupBy(\"StateCode\", \"MetalLevel\") \\\n                                .count()\n\ndf_metal_dist.show(10)",
			"metadata": {
				"trusted": true,
				"tags": []
			},
			"execution_count": 12,
			"outputs": [
				{
					"name": "stdout",
					"text": "+---------+----------+-----+\n|StateCode|MetalLevel|count|\n+---------+----------+-----+\n|       WI|      Gold| 1164|\n|       PA|      Gold|  878|\n|       MT|      Gold|  157|\n|       VA|      Gold|  374|\n|       SC|    Silver|  840|\n|       TN|    Silver|  962|\n|       TN|      High|  130|\n|       WY|      High|  104|\n|       PA|    Silver| 1818|\n|       LA|    Silver|  454|\n+---------+----------+-----+\nonly showing top 10 rows\n",
					"output_type": "stream"
				}
			]
		},
		{
			"cell_type": "code",
			"source": "# ============================================\n# 8. Comparativo de preço médio por MetalLevel\n# ============================================\n\"\"\"\nObjetivo: Confirmar se há relação entre o nível do plano (Bronze, Silver, etc.) e o valor médio mensal cobrado\n\"\"\"\n# renomeando a coluna para efetuar o join corretamente\ndf_rate_by_std = df_rate_filtered.select(col(\"PlanId\").alias(\"StandardComponentId\"), \"IndividualRate\")\n\n# join com a tabela df_plan_attr_idmap, que mapeia PlanId em StandardComponentId\ndf_plan_attr_with_rates = df_plan_attr_idmap.join(df_rate_by_std, on=\"StandardComponentId\", how=\"inner\")\n\n# selecionando as colunas de interesse em df_plan_attr_filtered\ndf_plan_attr_with_metal = df_plan_attr_filtered.select(\"PlanId\", \"MetalLevel\")\n\n# join dos dataframes que possuem o valor dos planos e a categoria dos planos, respectivamente\ndf_price_by_metal = df_plan_attr_with_rates.join(df_plan_attr_with_metal, on=\"PlanId\", how=\"left\")\n\n# agregação de df_price_by_metal para calcular o valor médio de cada plano\ndf_rate_metal_avg = df_price_by_metal.groupBy(\"MetalLevel\") \\\n                                        .agg(avg(\"IndividualRate\").alias(\"AvgRate\")) \\\n                                        .orderBy(\"AvgRate\", ascending=False)\n\ndf_rate_metal_avg.show()",
			"metadata": {
				"trusted": true,
				"tags": []
			},
			"execution_count": 13,
			"outputs": [
				{
					"name": "stdout",
					"text": "+------------+------------------+\n|  MetalLevel|           AvgRate|\n+------------+------------------+\n|        High| 9932.566237576582|\n|         Low| 9051.245244250505|\n|    Platinum| 600.7985745064326|\n|        Gold| 530.1987336997677|\n|      Silver| 440.1652698442609|\n|      Bronze| 364.9217999604044|\n|Catastrophic|283.60358587774465|\n+------------+------------------+\n",
					"output_type": "stream"
				}
			]
		},
		{
			"cell_type": "code",
			"source": "# ============================================\n# 9. Quantos planos por estado incluem cobertura fora do país / fora da área\n# ============================================\n\"\"\"\nObjetivo: Avaliar quais estados têm planos com maior cobertura geográfica (campos: OutOfCountryCoverage, OutOfServiceAreaCoverage)\n\"\"\"\n\ndf_coverage_scope = df_plan_attr_raw.select(\"StateCode\", \"OutOfCountryCoverage\", \"OutOfServiceAreaCoverage\") \\\n    .withColumn(\"OutOfCountry\", when(col(\"OutOfCountryCoverage\") == \"Yes\", 1).otherwise(0)) \\\n    .withColumn(\"OutOfServiceArea\", when(col(\"OutOfServiceAreaCoverage\") == \"Yes\", 1).otherwise(0))\n\ndf_coverage_scope_grouped = df_coverage_scope.groupBy(\"StateCode\") \\\n    .agg(\n        sum(\"OutOfCountry\").alias(\"NumPlansWithIntlCoverage\"),\n        sum(\"OutOfServiceArea\").alias(\"NumPlansWithOutOfAreaCoverage\")\n    )\ndf_coverage_scope_grouped.show(5)",
			"metadata": {
				"trusted": true,
				"tags": []
			},
			"execution_count": 14,
			"outputs": [
				{
					"name": "stdout",
					"text": "+---------+------------------------+-----------------------------+\n|StateCode|NumPlansWithIntlCoverage|NumPlansWithOutOfAreaCoverage|\n+---------+------------------------+-----------------------------+\n|       IN|                    1015|                         1227|\n|       ND|                     831|                          963|\n|       MS|                     377|                          448|\n|       LA|                    1023|                         1335|\n|       GA|                    1385|                         1940|\n+---------+------------------------+-----------------------------+\nonly showing top 5 rows\n",
					"output_type": "stream"
				}
			]
		},
		{
			"cell_type": "code",
			"source": "# ============================================\n# 10. Quantos planos por estado oferecem programas de bem-estar ou gestão de doenças\n# ============================================\n\"\"\"\nObjetivo: Ver se há relação entre suporte preventivo e estado/região.\n\"\"\"\ndf_wellness = df_plan_attr_raw.select(\"StateCode\", \"WellnessProgramOffered\", \"DiseaseManagementProgramsOffered\") \\\n    .withColumn(\"HasWellness\", when(col(\"WellnessProgramOffered\") == \"Yes\", 1).otherwise(0)) \\\n    .withColumn(\"HasDiseaseMgmt\", when(col(\"DiseaseManagementProgramsOffered\") == \"Yes\", 1).otherwise(0))\n\ndf_wellness_grouped = df_wellness.groupBy(\"StateCode\") \\\n    .agg(\n        sum(\"HasWellness\").alias(\"PlansWithWellnessPrograms\"),\n        sum(\"HasDiseaseMgmt\").alias(\"PlansWithDiseaseManagement\")\n    )\ndf_wellness_grouped.show(5)",
			"metadata": {
				"trusted": true,
				"tags": []
			},
			"execution_count": 15,
			"outputs": [
				{
					"name": "stdout",
					"text": "+---------+-------------------------+--------------------------+\n|StateCode|PlansWithWellnessPrograms|PlansWithDiseaseManagement|\n+---------+-------------------------+--------------------------+\n|       IL|                     1397|                         0|\n|       WY|                       24|                         0|\n|       IN|                      950|                         0|\n|       OK|                      682|                         0|\n|       WV|                      423|                         0|\n+---------+-------------------------+--------------------------+\nonly showing top 5 rows\n",
					"output_type": "stream"
				}
			]
		},
		{
			"cell_type": "code",
			"source": "# ============================================\n# 11. Quantidade de planos por faixa etária\n# ============================================\n\"\"\"\nObjetivo: Ver se há mais opções de planos para algumas faixas etárias (útil para o público jovem, idoso etc.).\n\"\"\"\n\ndf_rate_age_grouped = df_rate_filtered.groupBy(\"Age\") \\\n                                      .count()\ndf_rate_age_grouped.show(5)",
			"metadata": {
				"trusted": true,
				"tags": []
			},
			"execution_count": 16,
			"outputs": [
				{
					"name": "stdout",
					"text": "+----+------+\n| Age| count|\n+----+------+\n|NULL|591497|\n|  38|275067|\n|  39|275067|\n|  40|275067|\n|  41|275067|\n+----+------+\nonly showing top 5 rows\n",
					"output_type": "stream"
				}
			]
		},
		{
			"cell_type": "markdown",
			"source": "#### Example: Create a DynamicFrame from a table in the AWS Glue Data Catalog and display its schema\n",
			"metadata": {
				"editable": true,
				"jp-MarkdownHeadingCollapsed": true,
				"tags": [],
				"trusted": true
			}
		},
		{
			"cell_type": "code",
			"source": "dyf = glueContext.create_dynamic_frame.from_catalog(database='database_name', table_name='table_name')\ndyf.printSchema()",
			"metadata": {
				"trusted": true,
				"editable": true
			},
			"execution_count": null,
			"outputs": []
		},
		{
			"cell_type": "markdown",
			"source": "#### Example: Convert the DynamicFrame to a Spark DataFrame and display a sample of the data\n",
			"metadata": {
				"editable": true,
				"jp-MarkdownHeadingCollapsed": true,
				"tags": [],
				"trusted": true
			}
		},
		{
			"cell_type": "code",
			"source": "df = dyf.toDF()\ndf.show()",
			"metadata": {
				"trusted": true,
				"editable": true
			},
			"execution_count": null,
			"outputs": []
		},
		{
			"cell_type": "markdown",
			"source": "#### Example: Visualize data with matplotlib\n",
			"metadata": {
				"editable": true,
				"jp-MarkdownHeadingCollapsed": true,
				"tags": [],
				"trusted": true
			}
		},
		{
			"cell_type": "code",
			"source": "import matplotlib.pyplot as plt\n\n# Set X-axis and Y-axis values\nx = [5, 2, 8, 4, 9]\ny = [10, 4, 8, 5, 2]\n  \n# Create a bar chart \nplt.bar(x, y)\n  \n# Show the plot\n%matplot plt",
			"metadata": {
				"trusted": true,
				"editable": true
			},
			"execution_count": null,
			"outputs": []
		},
		{
			"cell_type": "markdown",
			"source": "#### Example: Write the data in the DynamicFrame to a location in Amazon S3 and a table for it in the AWS Glue Data Catalog\n",
			"metadata": {
				"editable": true,
				"jp-MarkdownHeadingCollapsed": true,
				"tags": [],
				"trusted": true
			}
		},
		{
			"cell_type": "code",
			"source": "s3output = glueContext.getSink(\n  path=\"s3://bucket_name/folder_name\",\n  connection_type=\"s3\",\n  updateBehavior=\"UPDATE_IN_DATABASE\",\n  partitionKeys=[],\n  compression=\"snappy\",\n  enableUpdateCatalog=True,\n  transformation_ctx=\"s3output\",\n)\ns3output.setCatalogInfo(\n  catalogDatabase=\"demo\", catalogTableName=\"populations\"\n)\ns3output.setFormat(\"glueparquet\")\ns3output.writeFrame(DyF)",
			"metadata": {
				"trusted": true,
				"editable": true
			},
			"execution_count": null,
			"outputs": []
		}
	]
}
